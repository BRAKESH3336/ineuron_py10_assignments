{
  "nbformat": 4,
  "nbformat_minor": 0,
  "metadata": {
    "colab": {
      "name": "Assignment 2.ipynb",
      "provenance": [],
      "collapsed_sections": []
    },
    "kernelspec": {
      "name": "python3",
      "display_name": "Python 3"
    }
  },
  "cells": [
    {
      "cell_type": "markdown",
      "metadata": {
        "id": "EYBbW9X8cgTF",
        "colab_type": "text"
      },
      "source": [
        "# TASK 1"
      ]
    },
    {
      "cell_type": "markdown",
      "metadata": {
        "id": "QkrI51NixfWj",
        "colab_type": "text"
      },
      "source": [
        "1.1\n",
        "Write a Python Program to implement your own myreduce() function which works exactly like\n",
        "Python's built-in function reduce()"
      ]
    },
    {
      "cell_type": "code",
      "metadata": {
        "id": "HJM5ILSJxkbA",
        "colab_type": "code",
        "colab": {}
      },
      "source": [
        "def myreduce(func,seq):\n",
        "  val=seq[0]\n",
        "  for i in range(len(seq)-1):\n",
        "    val=func(val,seq[i+1])\n",
        "    \n",
        "  return val\n",
        "    \n"
      ],
      "execution_count": 0,
      "outputs": []
    },
    {
      "cell_type": "code",
      "metadata": {
        "id": "REbwkDmkh2pv",
        "colab_type": "code",
        "outputId": "549f0b3a-cef8-420c-b59c-0fb01cdc0a56",
        "colab": {
          "base_uri": "https://localhost:8080/",
          "height": 34
        }
      },
      "source": [
        "lst =['sdfs','sdfsfsdf','sdf']\n",
        "myreduce(lambda a,b:a+b,lst)"
      ],
      "execution_count": 0,
      "outputs": [
        {
          "output_type": "execute_result",
          "data": {
            "text/plain": [
              "'sdfssdfsfsdfsdf'"
            ]
          },
          "metadata": {
            "tags": []
          },
          "execution_count": 46
        }
      ]
    },
    {
      "cell_type": "code",
      "metadata": {
        "id": "cw2xuydSiGfp",
        "colab_type": "code",
        "outputId": "e5a1d716-44b9-4dcc-f980-2e6989192575",
        "colab": {
          "base_uri": "https://localhost:8080/",
          "height": 34
        }
      },
      "source": [
        "lst =[47,11,42,13]\n",
        "max_find=lambda a,b: a if a>b else b\n",
        "myreduce(max_find,lst) "
      ],
      "execution_count": 0,
      "outputs": [
        {
          "output_type": "execute_result",
          "data": {
            "text/plain": [
              "47"
            ]
          },
          "metadata": {
            "tags": []
          },
          "execution_count": 47
        }
      ]
    },
    {
      "cell_type": "markdown",
      "metadata": {
        "id": "vNZVGgIj3N5R",
        "colab_type": "text"
      },
      "source": [
        "1.2\n",
        "Write a Python program to implement your own myfilter() function which works exactly like\n",
        "Python's built-in function filter()"
      ]
    },
    {
      "cell_type": "code",
      "metadata": {
        "id": "2Q8_QydE3QxQ",
        "colab_type": "code",
        "colab": {}
      },
      "source": [
        "def myfilter(func, seq):\n",
        "  val=[]\n",
        "  for i in range(len(seq)):\n",
        "    if func(seq[i]) :\n",
        "      val.append(seq[i])\n",
        "  return val"
      ],
      "execution_count": 0,
      "outputs": []
    },
    {
      "cell_type": "code",
      "metadata": {
        "id": "TElYxKgciZLh",
        "colab_type": "code",
        "outputId": "bfaed1af-e6ca-4d50-9239-91d06c3f6f4f",
        "colab": {
          "base_uri": "https://localhost:8080/",
          "height": 34
        }
      },
      "source": [
        "lst =[1,2,3,4,5,6,7,8]\n",
        "def even_num(num):\n",
        "  if num%2==0:\n",
        "    return num\n",
        "\n",
        "myfilter(even_num,lst)"
      ],
      "execution_count": 0,
      "outputs": [
        {
          "output_type": "execute_result",
          "data": {
            "text/plain": [
              "[2, 4, 6, 8]"
            ]
          },
          "metadata": {
            "tags": []
          },
          "execution_count": 51
        }
      ]
    },
    {
      "cell_type": "markdown",
      "metadata": {
        "id": "dArr2wJW58L0",
        "colab_type": "text"
      },
      "source": [
        "2. Implement List comprehensions to produce the following lists.\n",
        "Write List comprehensions to produce the following Lists\n",
        "\n",
        "\n",
        "---\n",
        "\n",
        "\n",
        "['A', 'C', 'A', 'D', 'G', 'I', ’L’, ‘ D’] \n",
        "\n",
        "\n",
        "---\n",
        "\n",
        "\n",
        "['x', 'xx', 'xxx', 'xxxx', 'y', 'yy', 'yyy', 'yyyy', 'z', 'zz', 'zzz', 'zzzz']\n",
        "\n",
        "---\n",
        "\n",
        "\n",
        "['x', 'y', 'z', 'xx', 'yy', 'zz', 'xx', 'yy', 'zz', 'xxxx', 'yyyy', 'zzzz']\n",
        "\n",
        "---\n",
        "\n",
        "\n",
        "[[2], [3], [4], [3], [4], [5], [4], [5], [6]]\n",
        "\n",
        "---\n",
        "\n",
        "\n",
        "[[2, 3, 4, 5], [3, 4, 5, 6], [4, 5, 6, 7], [5, 6, 7, 8]]\n",
        "\n",
        "---\n",
        "\n",
        "\n",
        "\n",
        "---\n",
        "\n",
        "\n",
        "[(1, 1), (2, 1), (3, 1), (1, 2), (2, 2), (3, 2), (1, 3), (2, 3), (3, 3)]"
      ]
    },
    {
      "cell_type": "code",
      "metadata": {
        "id": "NahKpgn26DVt",
        "colab_type": "code",
        "outputId": "69127a53-687c-4d5d-d329-fddd4b5cb19e",
        "colab": {
          "base_uri": "https://localhost:8080/",
          "height": 34
        }
      },
      "source": [
        "s=\"abcde\"\n",
        "[i for i in s]"
      ],
      "execution_count": 0,
      "outputs": [
        {
          "output_type": "execute_result",
          "data": {
            "text/plain": [
              "['a', 'b', 'c', 'd', 'e']"
            ]
          },
          "metadata": {
            "tags": []
          },
          "execution_count": 28
        }
      ]
    },
    {
      "cell_type": "code",
      "metadata": {
        "id": "lZHCeHUK73GS",
        "colab_type": "code",
        "outputId": "cb4eda40-92a2-4128-85f6-8081d8f2199d",
        "colab": {
          "base_uri": "https://localhost:8080/",
          "height": 34
        }
      },
      "source": [
        "s=\"xyz\"\n",
        "[i*j for i in s for j in range(1,5)]"
      ],
      "execution_count": 0,
      "outputs": [
        {
          "output_type": "execute_result",
          "data": {
            "text/plain": [
              "['x', 'xx', 'xxx', 'xxxx', 'y', 'yy', 'yyy', 'yyyy', 'z', 'zz', 'zzz', 'zzzz']"
            ]
          },
          "metadata": {
            "tags": []
          },
          "execution_count": 34
        }
      ]
    },
    {
      "cell_type": "code",
      "metadata": {
        "id": "icrMw99W8GEj",
        "colab_type": "code",
        "outputId": "cae25948-c59d-4161-8c1d-ab3a5072b567",
        "colab": {
          "base_uri": "https://localhost:8080/",
          "height": 34
        }
      },
      "source": [
        "[i*j for j in range(1,4) for i in s]"
      ],
      "execution_count": 0,
      "outputs": [
        {
          "output_type": "execute_result",
          "data": {
            "text/plain": [
              "['x', 'y', 'z', 'xx', 'yy', 'zz', 'xxx', 'yyy', 'zzz']"
            ]
          },
          "metadata": {
            "tags": []
          },
          "execution_count": 35
        }
      ]
    },
    {
      "cell_type": "code",
      "metadata": {
        "id": "zKFf6QegSOax",
        "colab_type": "code",
        "outputId": "16e49cca-8b34-4a8d-fec9-b28940b709e6",
        "colab": {
          "base_uri": "https://localhost:8080/",
          "height": 34
        }
      },
      "source": [
        "#[[2], [3], [4], [3], [4], [5], [4], [5], [6]]\n",
        "num=[2,3,4,5]\n",
        "[[i+j] for i in num for j in range(0,3)]"
      ],
      "execution_count": 0,
      "outputs": [
        {
          "output_type": "execute_result",
          "data": {
            "text/plain": [
              "[[2], [3], [4], [3], [4], [5], [4], [5], [6], [5], [6], [7]]"
            ]
          },
          "metadata": {
            "tags": []
          },
          "execution_count": 36
        }
      ]
    },
    {
      "cell_type": "code",
      "metadata": {
        "id": "Xx03bcjhTIUu",
        "colab_type": "code",
        "outputId": "70169dbe-8cbb-43f9-e1aa-6863c7f480f9",
        "colab": {
          "base_uri": "https://localhost:8080/",
          "height": 34
        }
      },
      "source": [
        "# [[2, 3, 4, 5], [3, 4, 5, 6], [4, 5, 6, 7], [5, 6, 7, 8]]\n",
        "\n",
        "[[i+j for j in range(4)] for i in num]"
      ],
      "execution_count": 0,
      "outputs": [
        {
          "output_type": "execute_result",
          "data": {
            "text/plain": [
              "[[2, 3, 4, 5], [3, 4, 5, 6], [4, 5, 6, 7], [5, 6, 7, 8]]"
            ]
          },
          "metadata": {
            "tags": []
          },
          "execution_count": 38
        }
      ]
    },
    {
      "cell_type": "code",
      "metadata": {
        "id": "QsTKpfcla843",
        "colab_type": "code",
        "outputId": "637becf3-e342-4146-d168-75bd7351f0ad",
        "colab": {
          "base_uri": "https://localhost:8080/",
          "height": 34
        }
      },
      "source": [
        "#[(1, 1), (2, 1), (3, 1), (1, 2), (2, 2), (3, 2), (1, 3), (2, 3), (3, 3)]\n",
        "num1=[1,2,3]\n",
        "[(j,i) for i in num1 for j in range(1,4)]"
      ],
      "execution_count": 0,
      "outputs": [
        {
          "output_type": "execute_result",
          "data": {
            "text/plain": [
              "[(1, 1), (2, 1), (3, 1), (1, 2), (2, 2), (3, 2), (1, 3), (2, 3), (3, 3)]"
            ]
          },
          "metadata": {
            "tags": []
          },
          "execution_count": 39
        }
      ]
    },
    {
      "cell_type": "markdown",
      "metadata": {
        "id": "slcUUE8ScNJr",
        "colab_type": "text"
      },
      "source": [
        "3. Implement a function longestWord() that takes a list of words and returns the longest one"
      ]
    },
    {
      "cell_type": "code",
      "metadata": {
        "id": "xVqGDK_mcd6n",
        "colab_type": "code",
        "colab": {}
      },
      "source": [
        "from functools import reduce\n",
        "words=['africa','america','india', 'singapore']\n",
        "def longestWord(lst):\n",
        "  max_find=lambda a,b: a if a>b else b\n",
        "  return reduce(max_find,lst)"
      ],
      "execution_count": 0,
      "outputs": []
    },
    {
      "cell_type": "code",
      "metadata": {
        "id": "gM0l91VRdMJQ",
        "colab_type": "code",
        "outputId": "83caac5a-4d7b-4c3f-edda-bc96a2f1b59b",
        "colab": {
          "base_uri": "https://localhost:8080/",
          "height": 34
        }
      },
      "source": [
        "longestWord(words)"
      ],
      "execution_count": 0,
      "outputs": [
        {
          "output_type": "execute_result",
          "data": {
            "text/plain": [
              "'singapore'"
            ]
          },
          "metadata": {
            "tags": []
          },
          "execution_count": 45
        }
      ]
    },
    {
      "cell_type": "markdown",
      "metadata": {
        "id": "OyTmUCJso04b",
        "colab_type": "text"
      },
      "source": [
        "## TASK 2"
      ]
    },
    {
      "cell_type": "markdown",
      "metadata": {
        "id": "iSRqITETo4Bs",
        "colab_type": "text"
      },
      "source": [
        "1.1\n",
        "Write a Python Program(with class concepts) to find the area of the triangle using the below\n",
        "formula.\n",
        "area = (s*(s-a)*(s-b)*(s-c)) ** 0.5\n",
        "Function to take the length of the sides of triangle from user should be defined in the parent\n",
        "class and function to calculate the area should be defined in subclass."
      ]
    },
    {
      "cell_type": "code",
      "metadata": {
        "id": "3kmOmgdxkUEl",
        "colab_type": "code",
        "colab": {}
      },
      "source": [
        "class Polygon:\n",
        "  def __init__(self, sides):\n",
        "    self.no_sides=sides\n",
        "\n",
        "  def show(self):\n",
        "    print('Number of sides =',self.no_sides)\n",
        "\n",
        "class Triangle(Polygon):\n",
        "  def __init__(self,length):\n",
        "    Polygon.__init__(self,3)\n",
        "    self.length_sides=length           #length is list with length of sides entered by user\n",
        "\n",
        "  def get_area(self):\n",
        "    a,b,c=self.length_sides\n",
        "    s=(a+b+c)/2\n",
        "    return (s*(s-a)*(s-b)*(s-c)) ** 0.5"
      ],
      "execution_count": 0,
      "outputs": []
    },
    {
      "cell_type": "code",
      "metadata": {
        "id": "q5Vz-iLia0Tz",
        "colab_type": "code",
        "outputId": "9641df65-7744-4b1c-e9d1-40d78cc03874",
        "colab": {
          "base_uri": "https://localhost:8080/",
          "height": 51
        }
      },
      "source": [
        "tri = Triangle([3, 4, 5])\n",
        "print(tri.get_area())\n",
        "tri.show()"
      ],
      "execution_count": 13,
      "outputs": [
        {
          "output_type": "stream",
          "text": [
            "6.0\n",
            "Number of sides = 3\n"
          ],
          "name": "stdout"
        }
      ]
    },
    {
      "cell_type": "code",
      "metadata": {
        "id": "OxCFP0Lga9iD",
        "colab_type": "code",
        "colab": {}
      },
      "source": [
        ""
      ],
      "execution_count": 0,
      "outputs": []
    },
    {
      "cell_type": "markdown",
      "metadata": {
        "id": "xQiJlCBlhjnU",
        "colab_type": "text"
      },
      "source": [
        "1.2\n",
        "Write a function filter_long_words() that takes a list of words and an integer n and returns the list\n",
        "of words that are longer than n.\n"
      ]
    },
    {
      "cell_type": "code",
      "metadata": {
        "id": "XV0uacz3hk2q",
        "colab_type": "code",
        "colab": {}
      },
      "source": [
        "def filter_long_words(lst,n):\n",
        "  final=[]\n",
        "  for i in lst:\n",
        "    if len(i)>n:\n",
        "      final.append(i)\n",
        "  return final"
      ],
      "execution_count": 0,
      "outputs": []
    },
    {
      "cell_type": "code",
      "metadata": {
        "id": "I45Hp1efiQLT",
        "colab_type": "code",
        "outputId": "f2733f2d-bbe7-47fa-a9d5-c6c047ec18e8",
        "colab": {
          "base_uri": "https://localhost:8080/",
          "height": 34
        }
      },
      "source": [
        "words=['africa','america','india', 'singapore']\n",
        "filter_long_words(words,5)"
      ],
      "execution_count": 0,
      "outputs": [
        {
          "output_type": "execute_result",
          "data": {
            "text/plain": [
              "['africa', 'america', 'singapore']"
            ]
          },
          "metadata": {
            "tags": []
          },
          "execution_count": 6
        }
      ]
    },
    {
      "cell_type": "code",
      "metadata": {
        "id": "WESbq0ujiYSf",
        "colab_type": "code",
        "colab": {}
      },
      "source": [
        ""
      ],
      "execution_count": 0,
      "outputs": []
    },
    {
      "cell_type": "markdown",
      "metadata": {
        "id": "ZZW35hNhiwbm",
        "colab_type": "text"
      },
      "source": [
        "2.1\n",
        "Write a Python program using function concept that maps list of words into a list of integers\n",
        "representing the lengths of the corresponding words .\n",
        "Hint: If a list [ ab,cde,erty] is passed on to the python function output should come as [2,3,4]\n",
        "Here 2,3 and 4 are the lengths of the words in the list."
      ]
    },
    {
      "cell_type": "code",
      "metadata": {
        "id": "iDu8gTkei4i-",
        "colab_type": "code",
        "colab": {}
      },
      "source": [
        "def length_of_words(lst):\n",
        "  length=[]\n",
        "  for i in lst:\n",
        "    length.append(len(i))\n",
        "  return length\n"
      ],
      "execution_count": 0,
      "outputs": []
    },
    {
      "cell_type": "code",
      "metadata": {
        "id": "V2iKurp8jUZs",
        "colab_type": "code",
        "outputId": "5e2972fa-1411-4901-e1d4-a4278956de90",
        "colab": {
          "base_uri": "https://localhost:8080/",
          "height": 34
        }
      },
      "source": [
        "words=['africa','america','india', 'singapore']\n",
        "length_of_words(words)"
      ],
      "execution_count": 0,
      "outputs": [
        {
          "output_type": "execute_result",
          "data": {
            "text/plain": [
              "[6, 7, 5, 9]"
            ]
          },
          "metadata": {
            "tags": []
          },
          "execution_count": 12
        }
      ]
    },
    {
      "cell_type": "code",
      "metadata": {
        "id": "tzqJ-c60jaJ9",
        "colab_type": "code",
        "colab": {}
      },
      "source": [
        ""
      ],
      "execution_count": 0,
      "outputs": []
    },
    {
      "cell_type": "markdown",
      "metadata": {
        "id": "AWoaRuj2j4pc",
        "colab_type": "text"
      },
      "source": [
        "2.2\n",
        "Write a Python function which takes a character (i.e. a string of length 1) and returns True if it is\n",
        "a vowel, False otherwise."
      ]
    },
    {
      "cell_type": "code",
      "metadata": {
        "id": "wC0XuxW5j5UF",
        "colab_type": "code",
        "colab": {}
      },
      "source": [
        "def isvowel(char):\n",
        "  return char in ['a','e','i','o','u']\n"
      ],
      "execution_count": 0,
      "outputs": []
    },
    {
      "cell_type": "code",
      "metadata": {
        "id": "GxI2jJ4ukPW6",
        "colab_type": "code",
        "outputId": "3e4b095c-dd97-4580-a376-851541f80d89",
        "colab": {
          "base_uri": "https://localhost:8080/",
          "height": 51
        }
      },
      "source": [
        "char=input('Enter character to be checked')\n",
        "if isvowel(char):\n",
        "  print('Entered character {} is a vowel'.format(char))\n",
        "else :\n",
        "  print('Entered character {} is not a vowel'.format(char))\n"
      ],
      "execution_count": 0,
      "outputs": [
        {
          "output_type": "stream",
          "text": [
            "Enter character to be checkede\n",
            "Entered character e is a vowel\n"
          ],
          "name": "stdout"
        }
      ]
    },
    {
      "cell_type": "code",
      "metadata": {
        "id": "owolN9hb0Kqi",
        "colab_type": "code",
        "colab": {}
      },
      "source": [
        ""
      ],
      "execution_count": 0,
      "outputs": []
    }
  ]
}