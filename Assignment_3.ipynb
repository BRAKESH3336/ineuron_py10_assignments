{
  "nbformat": 4,
  "nbformat_minor": 0,
  "metadata": {
    "colab": {
      "name": "Assignment 3.ipynb",
      "provenance": [],
      "collapsed_sections": []
    },
    "kernelspec": {
      "name": "python3",
      "display_name": "Python 3"
    }
  },
  "cells": [
    {
      "cell_type": "markdown",
      "metadata": {
        "id": "bNTVjxD35UHh",
        "colab_type": "text"
      },
      "source": [
        "## TASK 1"
      ]
    },
    {
      "cell_type": "markdown",
      "metadata": {
        "id": "HMyqgzQK53bp",
        "colab_type": "text"
      },
      "source": [
        "1.\n",
        "Write a function to compute 5/0 and use try/except to catch the exceptions.\n"
      ]
    },
    {
      "cell_type": "code",
      "metadata": {
        "id": "E0xsBh-T5ade",
        "colab_type": "code",
        "colab": {}
      },
      "source": [
        "def divide(a,b):\n",
        "  try:\n",
        "    result=a/b\n",
        "    print(\"Output=\", result)\n",
        "  except ZeroDivisionError:\n",
        "    print(\"Sorry ! can't divide with denominator as 0\")"
      ],
      "execution_count": 0,
      "outputs": []
    },
    {
      "cell_type": "code",
      "metadata": {
        "id": "46LON8Dl5aKU",
        "colab_type": "code",
        "outputId": "c027959f-84ff-42bf-ee93-3c6633bfd51d",
        "colab": {
          "base_uri": "https://localhost:8080/",
          "height": 34
        }
      },
      "source": [
        "divide(5,0)"
      ],
      "execution_count": 0,
      "outputs": [
        {
          "output_type": "stream",
          "text": [
            "Sorry ! can't divide with denominator as 0\n"
          ],
          "name": "stdout"
        }
      ]
    },
    {
      "cell_type": "code",
      "metadata": {
        "id": "1yLKiQKgqfM0",
        "colab_type": "code",
        "colab": {}
      },
      "source": [
        ""
      ],
      "execution_count": 0,
      "outputs": []
    },
    {
      "cell_type": "markdown",
      "metadata": {
        "id": "KqBa5TDa5b5O",
        "colab_type": "text"
      },
      "source": [
        "2.\n",
        "Implement a Python program to generate all sentences where subject is in [\"Americans\",\n",
        "\"Indians\"] and verb is in [\"Play\", \"watch\"] and the object is in [\"Baseball\",\"cricket\"].\n",
        "\n",
        "Hint: Subject,Verb and Object should be declared in the program as shown below.\n",
        "subjects=[\"Americans \",\"Indians\"]\n",
        "verbs=[\"play\",\"watch\"]\n",
        "objects=[\"Baseball\",\"Cricket\"]\n",
        "\n",
        "\n",
        "Output should come as below:\n",
        "Americans play Baseball.\n",
        "\n",
        "Americans play Cricket.\n",
        "\n",
        "Americans watch Baseball.\n",
        "\n",
        "Americans watch Cricket.\n",
        "\n",
        "Indians play Baseball.\n",
        "\n",
        "Indians play Cricket.\n",
        "\n",
        "Indians watch Baseball.\n",
        "\n",
        "Indians watch Cricket."
      ]
    },
    {
      "cell_type": "code",
      "metadata": {
        "id": "YaT2Ligl4P9B",
        "colab_type": "code",
        "colab": {}
      },
      "source": [
        "subjects=[\"Americans \",\"Indians\"]\n",
        "verbs=[\"play\",\"watch\"]\n",
        "objects=[\"Baseball\",\"Cricket\"]"
      ],
      "execution_count": 0,
      "outputs": []
    },
    {
      "cell_type": "code",
      "metadata": {
        "id": "wYIDpbw64S6d",
        "colab_type": "code",
        "outputId": "3ccc75f6-c8bf-4a50-be00-decde094bd45",
        "colab": {
          "base_uri": "https://localhost:8080/",
          "height": 153
        }
      },
      "source": [
        "for i in subjects:\n",
        "  for j in verbs:\n",
        "    for k in objects:\n",
        "      print(i,j,k)"
      ],
      "execution_count": 0,
      "outputs": [
        {
          "output_type": "stream",
          "text": [
            "Americans  play Baseball\n",
            "Americans  play Cricket\n",
            "Americans  watch Baseball\n",
            "Americans  watch Cricket\n",
            "Indians play Baseball\n",
            "Indians play Cricket\n",
            "Indians watch Baseball\n",
            "Indians watch Cricket\n"
          ],
          "name": "stdout"
        }
      ]
    },
    {
      "cell_type": "code",
      "metadata": {
        "id": "oorticSB5RDe",
        "colab_type": "code",
        "colab": {}
      },
      "source": [
        ""
      ],
      "execution_count": 0,
      "outputs": []
    },
    {
      "cell_type": "markdown",
      "metadata": {
        "id": "lHytJn039xpt",
        "colab_type": "text"
      },
      "source": [
        "## TASK 2"
      ]
    },
    {
      "cell_type": "markdown",
      "metadata": {
        "id": "uHHqVnzT9xWV",
        "colab_type": "text"
      },
      "source": [
        "1.\n",
        "Write a function so that the columns of the output matrix are powers of the input vector.\n",
        "\n",
        "The order of the powers is determined by the increasing boolean argument. Specifically, when\n",
        "increasing is False, the i-th output column is the input vector raised element-wise to the power\n",
        "of N - i - 1.\n",
        "\n",
        "HINT: Such a matrix with a geometric progression in each row is named for AlexandreTheophile Vandermonde.\n"
      ]
    },
    {
      "cell_type": "code",
      "metadata": {
        "id": "rxyUhg0b9yZO",
        "colab_type": "code",
        "outputId": "e1cbd9c4-acd9-4c44-d6cc-0f6df81e29fc",
        "colab": {
          "base_uri": "https://localhost:8080/",
          "height": 391
        }
      },
      "source": [
        "import numpy as np\n",
        "def vander_matrix(value, n, increasing=False):\n",
        "    \n",
        "    if not increasing:\n",
        "        matx = np.array([x**(n-1-i) for x in value for i in range(n)]).reshape(value.size,n)\n",
        "    elif increasing:\n",
        "        matx = np.array([x**i for x in value for i in range(n)]).reshape(value.size,n)\n",
        "    \n",
        "    return matx\n",
        "\n",
        "print(\"------------OUTPUT-------------\\n\")\n",
        "value = np.array([1,2,3,4,5])\n",
        "col = 3\n",
        "matx_dec_order = vander_matrix(value,col,False)\n",
        "matx_inc_order = vander_matrix(value,col,True)\n",
        "\n",
        "print(\"The input array is:\",value,\"\\n\")\n",
        "print(\"Number of columns in output matrix should be:\",col,\"\\n\")\n",
        "print(\"Vander matrix of the input array in decreasing order of powers:\\n\\n\",matx_dec_order,\"\\n\")\n",
        "print(\"Vander matrix of the input array in increasing order of powers:\\n\\n\",matx_inc_order,\"\\n\")"
      ],
      "execution_count": 2,
      "outputs": [
        {
          "output_type": "stream",
          "text": [
            "------------OUTPUT-------------\n",
            "\n",
            "The input array is: [1 2 3 4 5] \n",
            "\n",
            "Number of columns in output matrix should be: 3 \n",
            "\n",
            "Vander matrix of the input array in decreasing order of powers:\n",
            "\n",
            " [[ 1  1  1]\n",
            " [ 4  2  1]\n",
            " [ 9  3  1]\n",
            " [16  4  1]\n",
            " [25  5  1]] \n",
            "\n",
            "Vander matrix of the input array in increasing order of powers:\n",
            "\n",
            " [[ 1  1  1]\n",
            " [ 1  2  4]\n",
            " [ 1  3  9]\n",
            " [ 1  4 16]\n",
            " [ 1  5 25]] \n",
            "\n"
          ],
          "name": "stdout"
        }
      ]
    },
    {
      "cell_type": "code",
      "metadata": {
        "id": "fltwg98B-UOo",
        "colab_type": "code",
        "colab": {}
      },
      "source": [
        ""
      ],
      "execution_count": 0,
      "outputs": []
    }
  ]
}